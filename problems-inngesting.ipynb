{
 "cells": [
  {
   "cell_type": "code",
   "execution_count": 117,
   "metadata": {},
   "outputs": [
    {
     "output_type": "execute_result",
     "data": {
      "text/plain": [
       "0"
      ]
     },
     "metadata": {},
     "execution_count": 117
    }
   ],
   "source": [
    "import jsonlines\n",
    "\n",
    "res = []\n",
    "with jsonlines.open(\"es-output.jsonl\") as reader:\n",
    "    for obj in reader:\n",
    "        res.append(obj)\n",
    "        \n",
    "        \n",
    "[x['title'] for x in res]\n",
    "\n",
    "len(res)"
   ]
  },
  {
   "cell_type": "code",
   "execution_count": 109,
   "metadata": {},
   "outputs": [],
   "source": [
    "def extractor(value):\n",
    "    try:\n",
    "        idx = [x['type'] for x in contents].index(value)\n",
    "        ret = contents[idx]['content']\n",
    "    except:\n",
    "        ret = None\n",
    "    return ret\n",
    "\n",
    "def strip_html(data):\n",
    "  p = re.compile(r'<.*?>')\n",
    "  return p.sub('', data)\n",
    "\n",
    "def strip_loc(string):\n",
    "  string = re.sub(\"^.* — ?\", \"\", str(string))\n",
    "  return string\n"
   ]
  },
  {
   "cell_type": "code",
   "execution_count": 106,
   "metadata": {},
   "outputs": [],
   "source": [
    "x = res[0]\n",
    "contents = x['contents']\n",
    "contents = [x for x in contents if x is not None]"
   ]
  },
  {
   "cell_type": "code",
   "execution_count": 116,
   "metadata": {},
   "outputs": [],
   "source": [
    "z = extractor('kicker')\n",
    "z"
   ]
  },
  {
   "cell_type": "code",
   "execution_count": 107,
   "metadata": {},
   "outputs": [
    {
     "output_type": "execute_result",
     "data": {
      "text/plain": [
       "['title',\n",
       " 'image',\n",
       " 'byline',\n",
       " 'date',\n",
       " 'sanitized_html',\n",
       " 'sanitized_html',\n",
       " 'sanitized_html',\n",
       " 'sanitized_html',\n",
       " 'sanitized_html',\n",
       " 'sanitized_html',\n",
       " 'sanitized_html',\n",
       " 'sanitized_html',\n",
       " 'sanitized_html',\n",
       " 'sanitized_html',\n",
       " 'sanitized_html',\n",
       " 'sanitized_html',\n",
       " 'sanitized_html',\n",
       " 'sanitized_html',\n",
       " 'sanitized_html',\n",
       " 'sanitized_html',\n",
       " 'sanitized_html',\n",
       " 'sanitized_html',\n",
       " 'sanitized_html',\n",
       " 'sanitized_html',\n",
       " 'sanitized_html',\n",
       " 'author_info']"
      ]
     },
     "metadata": {},
     "execution_count": 107
    }
   ],
   "source": [
    "[x['type'] for x in contents]"
   ]
  },
  {
   "cell_type": "code",
   "execution_count": 95,
   "metadata": {},
   "outputs": [
    {
     "output_type": "execute_result",
     "data": {
      "text/plain": [
       "'Joby Warrick'"
      ]
     },
     "metadata": {},
     "execution_count": 95
    }
   ],
   "source": [
    "x['author']"
   ]
  },
  {
   "cell_type": "code",
   "execution_count": 94,
   "metadata": {},
   "outputs": [
    {
     "output_type": "execute_result",
     "data": {
      "text/plain": [
       "1348081500000"
      ]
     },
     "metadata": {},
     "execution_count": 94
    }
   ],
   "source": [
    "extractor('date')"
   ]
  },
  {
   "cell_type": "code",
   "execution_count": 13,
   "metadata": {},
   "outputs": [],
   "source": [
    "import re\n",
    "para_idx = [i for i, x in enumerate(contents) if ('subtype' in x) and x['subtype'] == \"paragraph\"]\n",
    "contents_all = ''.join([contents[i]['content'] for i in para_idx])\n",
    "links = re.findall('<a href=\"(.*?)\".*?>', contents_all)"
   ]
  },
  {
   "cell_type": "code",
   "execution_count": 14,
   "metadata": {},
   "outputs": [
    {
     "output_type": "execute_result",
     "data": {
      "text/plain": [
       "'Looking at adorable animal pictures is a great way to pass some time, which is how KidsPost came up with this page. But we chose these photographs because of what they say about the amazing variety and adaptability of animals. For example, the blue-black coloring on the giraffe’s tongue may help it from getting sunburned when it sticks it out to eat. Do you see the owl on this page? Fooled you, it’s not an owl but a harpy eagle. Its amazing crest makes it stand out from other eagles. Fun <i>and</i> educational, that’s KidsPost for you!'"
      ]
     },
     "metadata": {},
     "execution_count": 14
    }
   ],
   "source": [
    "contents_all"
   ]
  },
  {
   "cell_type": "code",
   "execution_count": 15,
   "metadata": {},
   "outputs": [
    {
     "output_type": "execute_result",
     "data": {
      "text/plain": [
       "[]"
      ]
     },
     "metadata": {},
     "execution_count": 15
    }
   ],
   "source": [
    "links"
   ]
  },
  {
   "cell_type": "code",
   "execution_count": 20,
   "metadata": {},
   "outputs": [
    {
     "output_type": "execute_result",
     "data": {
      "text/plain": [
       "[3]"
      ]
     },
     "metadata": {},
     "execution_count": 20
    }
   ],
   "source": [
    "para_idx"
   ]
  },
  {
   "cell_type": "code",
   "execution_count": 17,
   "metadata": {},
   "outputs": [
    {
     "output_type": "error",
     "ename": "IndexError",
     "evalue": "list index out of range",
     "traceback": [
      "\u001b[0;31m---------------------------------------------------------------------------\u001b[0m",
      "\u001b[0;31mIndexError\u001b[0m                                Traceback (most recent call last)",
      "\u001b[0;32m<ipython-input-17-765fb0d47b08>\u001b[0m in \u001b[0;36m<module>\u001b[0;34m\u001b[0m\n\u001b[1;32m     10\u001b[0m                 \u001b[0;34m\"kicker\"\u001b[0m\u001b[0;34m:\u001b[0m \u001b[0mextractor\u001b[0m\u001b[0;34m(\u001b[0m\u001b[0;34m'kicker'\u001b[0m\u001b[0;34m)\u001b[0m\u001b[0;34m,\u001b[0m\u001b[0;34m\u001b[0m\u001b[0;34m\u001b[0m\u001b[0m\n\u001b[1;32m     11\u001b[0m                 \u001b[0;34m\"contents_1\"\u001b[0m\u001b[0;34m:\u001b[0m \u001b[0mstrip_loc\u001b[0m\u001b[0;34m(\u001b[0m\u001b[0mstrip_html\u001b[0m\u001b[0;34m(\u001b[0m\u001b[0mcontents\u001b[0m\u001b[0;34m[\u001b[0m\u001b[0mpara_idx\u001b[0m\u001b[0;34m[\u001b[0m\u001b[0;36m0\u001b[0m\u001b[0;34m]\u001b[0m\u001b[0;34m]\u001b[0m\u001b[0;34m[\u001b[0m\u001b[0;34m'content'\u001b[0m\u001b[0;34m]\u001b[0m\u001b[0;34m)\u001b[0m\u001b[0;34m)\u001b[0m\u001b[0;34m,\u001b[0m\u001b[0;34m\u001b[0m\u001b[0;34m\u001b[0m\u001b[0m\n\u001b[0;32m---> 12\u001b[0;31m                 \u001b[0;34m'contents_2'\u001b[0m\u001b[0;34m:\u001b[0m \u001b[0mstrip_html\u001b[0m\u001b[0;34m(\u001b[0m\u001b[0mcontents\u001b[0m\u001b[0;34m[\u001b[0m\u001b[0mpara_idx\u001b[0m\u001b[0;34m[\u001b[0m\u001b[0;36m1\u001b[0m\u001b[0;34m]\u001b[0m\u001b[0;34m]\u001b[0m\u001b[0;34m[\u001b[0m\u001b[0;34m'content'\u001b[0m\u001b[0;34m]\u001b[0m\u001b[0;34m)\u001b[0m\u001b[0;34m,\u001b[0m\u001b[0;34m\u001b[0m\u001b[0;34m\u001b[0m\u001b[0m\n\u001b[0m\u001b[1;32m     13\u001b[0m                 \u001b[0;34m'contents_3'\u001b[0m\u001b[0;34m:\u001b[0m \u001b[0mstrip_html\u001b[0m\u001b[0;34m(\u001b[0m\u001b[0mcontents\u001b[0m\u001b[0;34m[\u001b[0m\u001b[0mpara_idx\u001b[0m\u001b[0;34m[\u001b[0m\u001b[0;36m2\u001b[0m\u001b[0;34m]\u001b[0m\u001b[0;34m]\u001b[0m\u001b[0;34m[\u001b[0m\u001b[0;34m'content'\u001b[0m\u001b[0;34m]\u001b[0m\u001b[0;34m)\u001b[0m\u001b[0;34m,\u001b[0m\u001b[0;34m\u001b[0m\u001b[0;34m\u001b[0m\u001b[0m\n\u001b[1;32m     14\u001b[0m                 \u001b[0;34m'contents_all'\u001b[0m\u001b[0;34m:\u001b[0m \u001b[0mstrip_html\u001b[0m\u001b[0;34m(\u001b[0m\u001b[0mcontents_all\u001b[0m\u001b[0;34m)\u001b[0m\u001b[0;34m,\u001b[0m\u001b[0;34m\u001b[0m\u001b[0;34m\u001b[0m\u001b[0m\n",
      "\u001b[0;31mIndexError\u001b[0m: list index out of range"
     ]
    }
   ],
   "source": [
    "doc_id = x[\"id\"]\n",
    "\n",
    "article = {\n",
    "                \"_id\": doc_id,\n",
    "                \"title\": x[\"title\"],\n",
    "                # \"c012_embed\": c012_embeds_d[doc_id],\n",
    "                # \"ners\": ners_d[doc_id],\n",
    "                \"author\": x[\"author\"],\n",
    "                \"date\": extractor('date'),\n",
    "                \"kicker\": extractor('kicker'),\n",
    "                \"contents_1\": strip_loc(strip_html(contents[para_idx[0]]['content'])),\n",
    "                'contents_2': strip_html(contents[para_idx[1]]['content']),\n",
    "                'contents_3': strip_html(contents[para_idx[2]]['content']),\n",
    "                'contents_all': strip_html(contents_all),\n",
    "                'links': links\n",
    "            }"
   ]
  },
  {
   "cell_type": "code",
   "execution_count": 21,
   "metadata": {},
   "outputs": [
    {
     "output_type": "execute_result",
     "data": {
      "text/plain": [
       "'Looking at adorable animal pictures is a great way to pass some time, which is how KidsPost came up with this page. But we chose these photographs because of what they say about the amazing variety and adaptability of animals. For example, the blue-black coloring on the giraffe’s tongue may help it from getting sunburned when it sticks it out to eat. Do you see the owl on this page? Fooled you, it’s not an owl but a harpy eagle. Its amazing crest makes it stand out from other eagles. Fun and educational, that’s KidsPost for you!'"
      ]
     },
     "metadata": {},
     "execution_count": 21
    }
   ],
   "source": [
    "strip_loc(strip_html(contents[para_idx[0]]['content']))"
   ]
  },
  {
   "cell_type": "code",
   "execution_count": 63,
   "metadata": {},
   "outputs": [],
   "source": [
    "def none_if_short_contents(idx):\n",
    "    try:\n",
    "        i = para_idx[idx]\n",
    "        ret = strip_html(contents[i]['content'])\n",
    "    except:\n",
    "        ret = None\n",
    "    return ret"
   ]
  },
  {
   "cell_type": "code",
   "execution_count": 66,
   "metadata": {},
   "outputs": [
    {
     "output_type": "stream",
     "name": "stdout",
     "text": [
      "None\n"
     ]
    }
   ],
   "source": [
    "a = none_if_short_contents(2)\n",
    "a"
   ]
  },
  {
   "cell_type": "code",
   "execution_count": 57,
   "metadata": {},
   "outputs": [
    {
     "output_type": "execute_result",
     "data": {
      "text/plain": [
       "3"
      ]
     },
     "metadata": {},
     "execution_count": 57
    }
   ],
   "source": [
    "para_idx[0]"
   ]
  },
  {
   "cell_type": "code",
   "execution_count": 61,
   "metadata": {},
   "outputs": [
    {
     "output_type": "error",
     "ename": "KeyError",
     "evalue": "'contents'",
     "traceback": [
      "\u001b[0;31m---------------------------------------------------------------------------\u001b[0m",
      "\u001b[0;31mKeyError\u001b[0m                                  Traceback (most recent call last)",
      "\u001b[0;32m<ipython-input-61-c7e96fa3e5d9>\u001b[0m in \u001b[0;36m<module>\u001b[0;34m\u001b[0m\n\u001b[0;32m----> 1\u001b[0;31m \u001b[0mstrip_html\u001b[0m\u001b[0;34m(\u001b[0m\u001b[0mcontents\u001b[0m\u001b[0;34m[\u001b[0m\u001b[0;36m3\u001b[0m\u001b[0;34m]\u001b[0m\u001b[0;34m[\u001b[0m\u001b[0;34m'contents'\u001b[0m\u001b[0;34m]\u001b[0m\u001b[0;34m)\u001b[0m\u001b[0;34m\u001b[0m\u001b[0;34m\u001b[0m\u001b[0m\n\u001b[0m",
      "\u001b[0;31mKeyError\u001b[0m: 'contents'"
     ]
    }
   ],
   "source": [
    "strip_html(contents[3]['contents'])"
   ]
  },
  {
   "cell_type": "code",
   "execution_count": 62,
   "metadata": {},
   "outputs": [
    {
     "output_type": "execute_result",
     "data": {
      "text/plain": [
       "{'content': 'Looking at adorable animal pictures is a great way to pass some time, which is how KidsPost came up with this page. But we chose these photographs because of what they say about the amazing variety and adaptability of animals. For example, the blue-black coloring on the giraffe’s tongue may help it from getting sunburned when it sticks it out to eat. Do you see the owl on this page? Fooled you, it’s not an owl but a harpy eagle. Its amazing crest makes it stand out from other eagles. Fun <i>and</i> educational, that’s KidsPost for you!',\n",
       " 'subtype': 'paragraph',\n",
       " 'type': 'sanitized_html',\n",
       " 'mime': 'text/html'}"
      ]
     },
     "metadata": {},
     "execution_count": 62
    }
   ],
   "source": [
    "contents[3]"
   ]
  },
  {
   "cell_type": "code",
   "execution_count": null,
   "metadata": {},
   "outputs": [],
   "source": []
  }
 ],
 "metadata": {
  "kernelspec": {
   "name": "python3",
   "display_name": "Python 3.7.3 64-bit ('venv': venv)",
   "metadata": {
    "interpreter": {
     "hash": "f508b9e2a94dddbf5d4965eaa9b591eb86846d4010135c81304657d13436e032"
    }
   }
  },
  "language_info": {
   "codemirror_mode": {
    "name": "ipython",
    "version": 3
   },
   "file_extension": ".py",
   "mimetype": "text/x-python",
   "name": "python",
   "nbconvert_exporter": "python",
   "pygments_lexer": "ipython3",
   "version": "3.7.3-final"
  }
 },
 "nbformat": 4,
 "nbformat_minor": 4
}